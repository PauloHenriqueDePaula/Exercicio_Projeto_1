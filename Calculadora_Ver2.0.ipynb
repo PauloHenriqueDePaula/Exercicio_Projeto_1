{
  "nbformat": 4,
  "nbformat_minor": 0,
  "metadata": {
    "colab": {
      "provenance": []
    },
    "kernelspec": {
      "name": "python3",
      "display_name": "Python 3"
    },
    "language_info": {
      "name": "python"
    }
  },
  "cells": [
    {
      "cell_type": "code",
      "execution_count": 32,
      "metadata": {
        "colab": {
          "base_uri": "https://localhost:8080/"
        },
        "id": "z7d-8HKb9LYw",
        "outputId": "5095a965-a6d5-4b80-d19a-e59d4f049d10"
      },
      "outputs": [
        {
          "output_type": "stream",
          "name": "stdout",
          "text": [
            "Bem-vindo a Calculadora do Paulinho!\n",
            "Digite um número: 5\n",
            "Digite outro número:  5\n",
            "Agora informe, qual operação aritmética você deseja realizar, digite somente o símbolo referente:\n",
            "+ para Soma ; - para Subtração ; / para Divisão ; * para Multiplicação*\n",
            "5.0 * 5.0 = 25.0\n",
            "Deseja realizar outra operação?(S para sim ou qualquer outra tecla para sair): n\n",
            "Obrigado por usar a Calculadora do Paulinho, até a próxima!\n"
          ]
        }
      ],
      "source": [
        "continuar = True\n",
        "print(\"Bem-vindo a Calculadora do Paulinho!\")\n",
        "while continuar:\n",
        "  num1 = float(input(\"Digite um número: \"))\n",
        "  num2 = float(input(\"Digite outro número:  \"))\n",
        "  print(\"Agora informe, qual operação aritmética você deseja realizar, digite somente o símbolo referente:\")\n",
        "  opera = (input(\"+ para Soma ; - para Subtração ; / para Divisão ; * para Multiplicação\"))\n",
        "  if opera == '+':\n",
        "    total = num1 + num2\n",
        "    print(f\"{num1} + {num2} = {total}\")\n",
        "    resposta = input(\"Deseja realizar outra operação?(S para sim ou qualquer outra tecla para sair): \").lower()\n",
        "    if resposta != 's':\n",
        "      continuar = False\n",
        "  elif opera == '-':\n",
        "    total = num1 - num2\n",
        "    print(f\"{num1} - {num2} = {total}\")\n",
        "    resposta = input(\"Deseja realizar outra operação?(S para sim ou qualquer outra tecla para sair): \").lower()\n",
        "    if resposta != 's':\n",
        "      continuar = False\n",
        "  elif opera == '/':\n",
        "    total = num1 / num2\n",
        "    print(f\"{num1} / {num2} = {total}\")\n",
        "    resposta = input(\"Deseja realizar outra operação?(S para sim ou qualquer outra tecla para sair): \").lower()\n",
        "    if resposta != 's':\n",
        "      continuar = False\n",
        "  elif opera == '*':\n",
        "    total = num1 * num2\n",
        "    print(f\"{num1} * {num2} = {total}\")\n",
        "    resposta = input(\"Deseja realizar outra operação?(S para sim ou qualquer outra tecla para sair): \").lower()\n",
        "    if resposta != 's':\n",
        "      continuar = False\n",
        "  else:\n",
        "    print(\"Operação Inválida!Favor digitar uma operação válida!\")\n",
        "print(\"Obrigado por usar a Calculadora do Paulinho, até a próxima!\")"
      ]
    }
  ]
}